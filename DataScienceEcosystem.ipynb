{
  "metadata": {
    "kernelspec": {
      "name": "python",
      "display_name": "Python (Pyodide)",
      "language": "python"
    },
    "language_info": {
      "codemirror_mode": {
        "name": "python",
        "version": 3
      },
      "file_extension": ".py",
      "mimetype": "text/x-python",
      "name": "python",
      "nbconvert_exporter": "python",
      "pygments_lexer": "ipython3",
      "version": "3.8"
    }
  },
  "nbformat_minor": 5,
  "nbformat": 4,
  "cells": [
    {
      "id": "39742cda-e72e-4676-86c7-7edcc83b6e61",
      "cell_type": "markdown",
      "source": "Data Science Tools and Ecosystem",
      "metadata": {}
    },
    {
      "id": "4cb7c330-7b0e-4906-9d68-fd0c94b23cc5",
      "cell_type": "markdown",
      "source": "In this notebook, Data Science Tools and Ecosystem are summarized.",
      "metadata": {}
    },
    {
      "id": "2c4f085f-6c60-4e5e-b2d8-916e74ab428f",
      "cell_type": "markdown",
      "source": "Some of the popular languages that Data Scientists use are:\n1. Python  \n2. R  \n3. SQL  \n4. Julia ",
      "metadata": {}
    },
    {
      "id": "737fe63c-4e70-4a39-a54f-117bca311a82",
      "cell_type": "markdown",
      "source": "Some of the commonly used libraries used by Data Scientists include:\n1. Pandas  \n2. NumPy  \n3. Matplotlib  \n4. Scikit-learn  ",
      "metadata": {}
    },
    {
      "id": "d9e70d39-ad1c-4596-bf89-5e7e86ba8c15",
      "cell_type": "markdown",
      "source": "| Data Science Tools |\n|--------------------|\n| Jupyter Notebook   |\n| RStudio            |\n| Apache Zeppelin    |",
      "metadata": {}
    },
    {
      "id": "42b11158-f6e0-4c37-9a57-e40b3e38e07a",
      "cell_type": "markdown",
      "source": "### Below are a few examples of evaluating arithmetic expressions in Python.",
      "metadata": {}
    },
    {
      "id": "2a5962e5-9836-4b64-a567-6a2125713b4a",
      "cell_type": "code",
      "source": "# This a simple arithmetic expression to multiply then add integers.\n(3 * 4) + 5",
      "metadata": {
        "trusted": true
      },
      "outputs": [
        {
          "execution_count": 1,
          "output_type": "execute_result",
          "data": {
            "text/plain": "17"
          },
          "metadata": {}
        }
      ],
      "execution_count": 1
    },
    {
      "id": "6d469751-d0e9-4ad6-9601-29a4513ed267",
      "cell_type": "code",
      "source": "# This will convert 200 minutes to hours by dividing by 60.\n200 / 60",
      "metadata": {
        "trusted": true
      },
      "outputs": [
        {
          "execution_count": 2,
          "output_type": "execute_result",
          "data": {
            "text/plain": "3.3333333333333335"
          },
          "metadata": {}
        }
      ],
      "execution_count": 2
    },
    {
      "id": "231de40b-1071-4b4e-9049-12bf498a61e8",
      "cell_type": "markdown",
      "source": "**Objectives:**\n- List popular languages for Data Science  \n- List commonly used libraries in Data Science  \n- Create tables using Markdown  \n- Perform arithmetic operations in Python  \n- Convert minutes to hours using Python code  ",
      "metadata": {}
    },
    {
      "id": "cdfff4e3-15b9-4054-b5eb-f559e423bdcb",
      "cell_type": "markdown",
      "source": "## Author  \nPanav Singh",
      "metadata": {}
    },
    {
      "id": "e7693147-db7f-448e-af5b-9d2468d27393",
      "cell_type": "code",
      "source": "",
      "metadata": {
        "trusted": true
      },
      "outputs": [],
      "execution_count": null
    }
  ]
}